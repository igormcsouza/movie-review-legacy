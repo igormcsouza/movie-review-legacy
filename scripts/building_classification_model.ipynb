{
 "cells": [
  {
   "cell_type": "markdown",
   "metadata": {},
   "source": [
    "# Building the classification model\n",
    "\n",
    "This notebook will work with the dataset, preprocess and improve it, and then train the model, just to make a\n",
    "great classifier for our tests.\n",
    "\n",
    "Let's first import our needed packages!"
   ]
  },
  {
   "cell_type": "markdown",
   "metadata": {},
   "source": [
    "## Importing needed packages\n",
    "\n",
    "We are going to use NLTK to help on preprocessing and Sklearn to make the classification! "
   ]
  },
  {
   "cell_type": "code",
   "execution_count": 116,
   "metadata": {},
   "outputs": [],
   "source": [
    "%matplotlib inline\n",
    "\n",
    "import nltk\n",
    "import pickle\n",
    "import unidecode\n",
    "import pandas as pd\n",
    "import seaborn as sns\n",
    "\n",
    "from tqdm import tqdm\n",
    "from joblib import dump, load\n",
    "from string import punctuation\n",
    "from nltk.corpus import stopwords\n",
    "from nltk import tokenize, FreqDist\n",
    "from matplotlib import pyplot as plt\n",
    "\n",
    "from sklearn.model_selection import train_test_split\n",
    "from sklearn.linear_model import LogisticRegression\n",
    "from sklearn.feature_extraction.text import CountVectorizer, TfidfVectorizer"
   ]
  },
  {
   "cell_type": "markdown",
   "metadata": {},
   "source": [
    "## Taking a look at the dataset\n",
    "\n",
    "Before doing anything, we need to get to know our dataset, it's very important to understand what is good and what\n",
    "we can imporve on it! This kind of job may be a little hard at the begining, but it will save us a lot of time later!"
   ]
  },
  {
   "cell_type": "code",
   "execution_count": 83,
   "metadata": {},
   "outputs": [],
   "source": [
    "reviews = pd.read_csv('/data/imdb-reviews-pt-br.csv')"
   ]
  },
  {
   "cell_type": "code",
   "execution_count": 84,
   "metadata": {},
   "outputs": [
    {
     "data": {
      "text/html": [
       "<div>\n",
       "<style scoped>\n",
       "    .dataframe tbody tr th:only-of-type {\n",
       "        vertical-align: middle;\n",
       "    }\n",
       "\n",
       "    .dataframe tbody tr th {\n",
       "        vertical-align: top;\n",
       "    }\n",
       "\n",
       "    .dataframe thead th {\n",
       "        text-align: right;\n",
       "    }\n",
       "</style>\n",
       "<table border=\"1\" class=\"dataframe\">\n",
       "  <thead>\n",
       "    <tr style=\"text-align: right;\">\n",
       "      <th></th>\n",
       "      <th>id</th>\n",
       "      <th>text_en</th>\n",
       "      <th>text_pt</th>\n",
       "      <th>sentiment</th>\n",
       "    </tr>\n",
       "  </thead>\n",
       "  <tbody>\n",
       "    <tr>\n",
       "      <th>0</th>\n",
       "      <td>1</td>\n",
       "      <td>Once again Mr. Costner has dragged out a movie...</td>\n",
       "      <td>Mais uma vez, o Sr. Costner arrumou um filme p...</td>\n",
       "      <td>neg</td>\n",
       "    </tr>\n",
       "    <tr>\n",
       "      <th>1</th>\n",
       "      <td>2</td>\n",
       "      <td>This is an example of why the majority of acti...</td>\n",
       "      <td>Este é um exemplo do motivo pelo qual a maiori...</td>\n",
       "      <td>neg</td>\n",
       "    </tr>\n",
       "    <tr>\n",
       "      <th>2</th>\n",
       "      <td>3</td>\n",
       "      <td>First of all I hate those moronic rappers, who...</td>\n",
       "      <td>Primeiro de tudo eu odeio esses raps imbecis, ...</td>\n",
       "      <td>neg</td>\n",
       "    </tr>\n",
       "    <tr>\n",
       "      <th>3</th>\n",
       "      <td>4</td>\n",
       "      <td>Not even the Beatles could write songs everyon...</td>\n",
       "      <td>Nem mesmo os Beatles puderam escrever músicas ...</td>\n",
       "      <td>neg</td>\n",
       "    </tr>\n",
       "    <tr>\n",
       "      <th>4</th>\n",
       "      <td>5</td>\n",
       "      <td>Brass pictures movies is not a fitting word fo...</td>\n",
       "      <td>Filmes de fotos de latão não é uma palavra apr...</td>\n",
       "      <td>neg</td>\n",
       "    </tr>\n",
       "  </tbody>\n",
       "</table>\n",
       "</div>"
      ],
      "text/plain": [
       "   id                                            text_en  \\\n",
       "0   1  Once again Mr. Costner has dragged out a movie...   \n",
       "1   2  This is an example of why the majority of acti...   \n",
       "2   3  First of all I hate those moronic rappers, who...   \n",
       "3   4  Not even the Beatles could write songs everyon...   \n",
       "4   5  Brass pictures movies is not a fitting word fo...   \n",
       "\n",
       "                                             text_pt sentiment  \n",
       "0  Mais uma vez, o Sr. Costner arrumou um filme p...       neg  \n",
       "1  Este é um exemplo do motivo pelo qual a maiori...       neg  \n",
       "2  Primeiro de tudo eu odeio esses raps imbecis, ...       neg  \n",
       "3  Nem mesmo os Beatles puderam escrever músicas ...       neg  \n",
       "4  Filmes de fotos de latão não é uma palavra apr...       neg  "
      ]
     },
     "execution_count": 84,
     "metadata": {},
     "output_type": "execute_result"
    }
   ],
   "source": [
    "reviews.head()"
   ]
  },
  {
   "cell_type": "code",
   "execution_count": 85,
   "metadata": {},
   "outputs": [
    {
     "name": "stdout",
     "output_type": "stream",
     "text": [
      "This is a negative review:\n",
      "\n",
      " Mais uma vez, o Sr. Costner arrumou um filme por muito mais tempo do que o necessário. Além das terríveis seqüências de resgate no mar, das quais há muito poucas, eu simplesmente não me importei com nenhum dos personagens. A maioria de nós tem fantasmas no armário, e o personagem Costers é realizado logo no início, e depois esquecido até muito mais tarde, quando eu não me importava. O personagem com o qual deveríamos nos importar é muito arrogante e superconfiante, Ashton Kutcher. O problema é que ele sai como um garoto que pensa que é melhor do que qualquer outra pessoa ao seu redor e não mostra sinais de um armário desordenado. Seu único obstáculo parece estar vencendo Costner. Finalmente, quando estamos bem além do meio do caminho, Costner nos conta sobre os fantasmas dos Kutchers. Somos informados de por que Kutcher é levado a ser o melhor sem pressentimentos ou presságios anteriores. Nenhuma mágica aqui, era tudo que eu podia fazer para não desligar uma hora.\n"
     ]
    }
   ],
   "source": [
    "print('This is a negative review:\\n\\n', reviews.text_pt[0])"
   ]
  },
  {
   "cell_type": "code",
   "execution_count": 86,
   "metadata": {},
   "outputs": [
    {
     "data": {
      "text/plain": [
       "array(['neg', 'pos'], dtype=object)"
      ]
     },
     "execution_count": 86,
     "metadata": {},
     "output_type": "execute_result"
    }
   ],
   "source": [
    "reviews.sentiment.unique()"
   ]
  },
  {
   "cell_type": "code",
   "execution_count": 87,
   "metadata": {},
   "outputs": [
    {
     "data": {
      "text/plain": [
       "neg    24765\n",
       "pos    24694\n",
       "Name: sentiment, dtype: int64"
      ]
     },
     "execution_count": 87,
     "metadata": {},
     "output_type": "execute_result"
    }
   ],
   "source": [
    "reviews.sentiment.value_counts()"
   ]
  },
  {
   "cell_type": "code",
   "execution_count": 88,
   "metadata": {},
   "outputs": [
    {
     "data": {
      "text/html": [
       "<div>\n",
       "<style scoped>\n",
       "    .dataframe tbody tr th:only-of-type {\n",
       "        vertical-align: middle;\n",
       "    }\n",
       "\n",
       "    .dataframe tbody tr th {\n",
       "        vertical-align: top;\n",
       "    }\n",
       "\n",
       "    .dataframe thead th {\n",
       "        text-align: right;\n",
       "    }\n",
       "</style>\n",
       "<table border=\"1\" class=\"dataframe\">\n",
       "  <thead>\n",
       "    <tr style=\"text-align: right;\">\n",
       "      <th></th>\n",
       "      <th>id</th>\n",
       "      <th>text_en</th>\n",
       "      <th>text_pt</th>\n",
       "      <th>sentiment</th>\n",
       "      <th>binary_sentiment_repres</th>\n",
       "    </tr>\n",
       "  </thead>\n",
       "  <tbody>\n",
       "    <tr>\n",
       "      <th>0</th>\n",
       "      <td>1</td>\n",
       "      <td>Once again Mr. Costner has dragged out a movie...</td>\n",
       "      <td>Mais uma vez, o Sr. Costner arrumou um filme p...</td>\n",
       "      <td>neg</td>\n",
       "      <td>0</td>\n",
       "    </tr>\n",
       "    <tr>\n",
       "      <th>1</th>\n",
       "      <td>2</td>\n",
       "      <td>This is an example of why the majority of acti...</td>\n",
       "      <td>Este é um exemplo do motivo pelo qual a maiori...</td>\n",
       "      <td>neg</td>\n",
       "      <td>0</td>\n",
       "    </tr>\n",
       "    <tr>\n",
       "      <th>2</th>\n",
       "      <td>3</td>\n",
       "      <td>First of all I hate those moronic rappers, who...</td>\n",
       "      <td>Primeiro de tudo eu odeio esses raps imbecis, ...</td>\n",
       "      <td>neg</td>\n",
       "      <td>0</td>\n",
       "    </tr>\n",
       "    <tr>\n",
       "      <th>3</th>\n",
       "      <td>4</td>\n",
       "      <td>Not even the Beatles could write songs everyon...</td>\n",
       "      <td>Nem mesmo os Beatles puderam escrever músicas ...</td>\n",
       "      <td>neg</td>\n",
       "      <td>0</td>\n",
       "    </tr>\n",
       "    <tr>\n",
       "      <th>4</th>\n",
       "      <td>5</td>\n",
       "      <td>Brass pictures movies is not a fitting word fo...</td>\n",
       "      <td>Filmes de fotos de latão não é uma palavra apr...</td>\n",
       "      <td>neg</td>\n",
       "      <td>0</td>\n",
       "    </tr>\n",
       "  </tbody>\n",
       "</table>\n",
       "</div>"
      ],
      "text/plain": [
       "   id                                            text_en  \\\n",
       "0   1  Once again Mr. Costner has dragged out a movie...   \n",
       "1   2  This is an example of why the majority of acti...   \n",
       "2   3  First of all I hate those moronic rappers, who...   \n",
       "3   4  Not even the Beatles could write songs everyon...   \n",
       "4   5  Brass pictures movies is not a fitting word fo...   \n",
       "\n",
       "                                             text_pt sentiment  \\\n",
       "0  Mais uma vez, o Sr. Costner arrumou um filme p...       neg   \n",
       "1  Este é um exemplo do motivo pelo qual a maiori...       neg   \n",
       "2  Primeiro de tudo eu odeio esses raps imbecis, ...       neg   \n",
       "3  Nem mesmo os Beatles puderam escrever músicas ...       neg   \n",
       "4  Filmes de fotos de latão não é uma palavra apr...       neg   \n",
       "\n",
       "   binary_sentiment_repres  \n",
       "0                        0  \n",
       "1                        0  \n",
       "2                        0  \n",
       "3                        0  \n",
       "4                        0  "
      ]
     },
     "execution_count": 88,
     "metadata": {},
     "output_type": "execute_result"
    }
   ],
   "source": [
    "reviews['binary_sentiment_repres'] = reviews.sentiment.replace(['neg', 'pos'], [0,1])\n",
    "reviews.head()"
   ]
  },
  {
   "cell_type": "code",
   "execution_count": 91,
   "metadata": {},
   "outputs": [],
   "source": [
    "whiteSpaceTokenizer = tokenize.WhitespaceTokenizer()\n",
    "\n",
    "def get_occurs_df(column):\n",
    "    all_words = ' '.join([item for item in reviews[column]])\n",
    "    review_tokens = whiteSpaceTokenizer.tokenize(all_words)\n",
    "    occurencies = FreqDist(review_tokens)\n",
    "    return pd.DataFrame({\n",
    "        'words': list(occurencies.keys()), \n",
    "        'occur': list(occurencies.values())\n",
    "    })"
   ]
  },
  {
   "cell_type": "code",
   "execution_count": 92,
   "metadata": {},
   "outputs": [],
   "source": [
    "def plot_samples(df, n=10):\n",
    "    plt.figure(figsize=(12,8))\n",
    "    ax = sns.barplot(data=df.nlargest(columns='occur', n=n), x=\"words\", y=\"occur\", color='green')\n",
    "    ax.set(ylabel='Count')\n",
    "    plt.show()"
   ]
  },
  {
   "cell_type": "code",
   "execution_count": 93,
   "metadata": {},
   "outputs": [
    {
     "data": {
      "image/png": "[encoded data removed]",
      "text/plain": [
       "<Figure size 864x576 with 1 Axes>"
      ]
     },
     "metadata": {
      "needs_background": "light"
     },
     "output_type": "display_data"
    }
   ],
   "source": [
    "df_occur = get_occurs_df('text_pt')\n",
    "plot_samples(df_occur, n=15)"
   ]
  },
  {
   "cell_type": "markdown",
   "metadata": {},
   "source": [
    "## Preprocessors\n",
    "\n",
    "It's a very good practice preprocess the text before using it in a classification text. Usually, there are a lot of \n",
    "trash on the text, or uneeded word."
   ]
  },
  {
   "cell_type": "code",
   "execution_count": 105,
   "metadata": {},
   "outputs": [
    {
     "name": "stderr",
     "output_type": "stream",
     "text": [
      "[nltk_data] Downloading package stopwords to /root/nltk_data...\n",
      "[nltk_data]   Package stopwords is already up-to-date!\n",
      "[nltk_data] Downloading package rslp to /root/nltk_data...\n",
      "[nltk_data]   Unzipping stemmers/rslp.zip.\n"
     ]
    },
    {
     "data": {
      "text/plain": [
       "True"
      ]
     },
     "execution_count": 105,
     "metadata": {},
     "output_type": "execute_result"
    }
   ],
   "source": [
    "# Download needed data\n",
    "\n",
    "nltk.download('stopwords')\n",
    "nltk.download('rslp')"
   ]
  },
  {
   "cell_type": "code",
   "execution_count": 95,
   "metadata": {},
   "outputs": [],
   "source": [
    "# Transforming everything to lowercase\n",
    "\n",
    "reviews['preprocess_0'] = [review.lower() for review in reviews.text_pt]"
   ]
  },
  {
   "cell_type": "code",
   "execution_count": 96,
   "metadata": {},
   "outputs": [
    {
     "name": "stdout",
     "output_type": "stream",
     "text": [
      "This is a negative review:\n",
      "\n",
      " mais uma vez, o sr. costner arrumou um filme por muito mais tempo do que o necessário. além das terríveis seqüências de resgate no mar, das quais há muito poucas, eu simplesmente não me importei com nenhum dos personagens. a maioria de nós tem fantasmas no armário, e o personagem costers é realizado logo no início, e depois esquecido até muito mais tarde, quando eu não me importava. o personagem com o qual deveríamos nos importar é muito arrogante e superconfiante, ashton kutcher. o problema é que ele sai como um garoto que pensa que é melhor do que qualquer outra pessoa ao seu redor e não mostra sinais de um armário desordenado. seu único obstáculo parece estar vencendo costner. finalmente, quando estamos bem além do meio do caminho, costner nos conta sobre os fantasmas dos kutchers. somos informados de por que kutcher é levado a ser o melhor sem pressentimentos ou presságios anteriores. nenhuma mágica aqui, era tudo que eu podia fazer para não desligar uma hora.\n"
     ]
    }
   ],
   "source": [
    "print('This is a negative review:\\n\\n', reviews.preprocess_0[0])"
   ]
  },
  {
   "cell_type": "code",
   "execution_count": 97,
   "metadata": {},
   "outputs": [
    {
     "name": "stderr",
     "output_type": "stream",
     "text": [
      "100%|██████████| 49459/49459 [00:21<00:00, 2329.44it/s]\n"
     ]
    }
   ],
   "source": [
    "# First preprocess, taking out the stopwords and ponctuations\n",
    "\n",
    "irrelevants = stopwords.words(\"portuguese\")\n",
    "\n",
    "processed_sentece = list()\n",
    "for each in tqdm(reviews.preprocess_0):\n",
    "    filtered_sentence = list()\n",
    "    wordish = whiteSpaceTokenizer.tokenize(each)\n",
    "    for item in wordish:\n",
    "        if item not in irrelevants:\n",
    "            filtered_sentence.append(item)\n",
    "    processed_sentece.append(' '.join(filtered_sentence))\n",
    "\n",
    "reviews['preprocess_1_1'] = processed_sentece    "
   ]
  },
  {
   "cell_type": "code",
   "execution_count": 98,
   "metadata": {},
   "outputs": [
    {
     "name": "stdout",
     "output_type": "stream",
     "text": [
      "This is a negative review:\n",
      "\n",
      " vez, sr. costner arrumou filme tempo necessário. além terríveis seqüências resgate mar, quais poucas, simplesmente importei nenhum personagens. maioria fantasmas armário, personagem costers realizado logo início, esquecido tarde, importava. personagem deveríamos importar arrogante superconfiante, ashton kutcher. problema sai garoto pensa melhor qualquer outra pessoa redor mostra sinais armário desordenado. único obstáculo parece estar vencendo costner. finalmente, bem além meio caminho, costner conta sobre fantasmas kutchers. informados kutcher levado ser melhor pressentimentos presságios anteriores. nenhuma mágica aqui, tudo podia fazer desligar hora.\n"
     ]
    }
   ],
   "source": [
    "print('This is a negative review:\\n\\n', reviews.preprocess_1_1[0])"
   ]
  },
  {
   "cell_type": "code",
   "execution_count": 99,
   "metadata": {},
   "outputs": [
    {
     "name": "stderr",
     "output_type": "stream",
     "text": [
      "100%|██████████| 49459/49459 [00:18<00:00, 2706.48it/s]\n"
     ]
    }
   ],
   "source": [
    "punctuationTokenizer = tokenize.WordPunctTokenizer()\n",
    "\n",
    "processed_sentece = list()\n",
    "for each in tqdm(reviews.preprocess_1_1):\n",
    "    filtered_sentence = list()\n",
    "    wordish = punctuationTokenizer.tokenize(each)\n",
    "    for item in wordish:\n",
    "        if item not in [p for p in punctuation]:\n",
    "            filtered_sentence.append(item)\n",
    "    processed_sentece.append(' '.join(filtered_sentence))\n",
    "\n",
    "reviews['preprocess_1_2'] = processed_sentece    "
   ]
  },
  {
   "cell_type": "code",
   "execution_count": 100,
   "metadata": {},
   "outputs": [
    {
     "name": "stdout",
     "output_type": "stream",
     "text": [
      "This is a negative review:\n",
      "\n",
      " vez sr costner arrumou filme tempo necessário além terríveis seqüências resgate mar quais poucas simplesmente importei nenhum personagens maioria fantasmas armário personagem costers realizado logo início esquecido tarde importava personagem deveríamos importar arrogante superconfiante ashton kutcher problema sai garoto pensa melhor qualquer outra pessoa redor mostra sinais armário desordenado único obstáculo parece estar vencendo costner finalmente bem além meio caminho costner conta sobre fantasmas kutchers informados kutcher levado ser melhor pressentimentos presságios anteriores nenhuma mágica aqui tudo podia fazer desligar hora\n"
     ]
    }
   ],
   "source": [
    "print('This is a negative review:\\n\\n', reviews.preprocess_1_2[0])"
   ]
  },
  {
   "cell_type": "code",
   "execution_count": 101,
   "metadata": {},
   "outputs": [
    {
     "name": "stderr",
     "output_type": "stream",
     "text": [
      "100%|██████████| 49459/49459 [00:18<00:00, 2622.68it/s]\n"
     ]
    }
   ],
   "source": [
    "# Second preprocess, taking out accentuation\n",
    "\n",
    "reviews['preprocess_2'] = [unidecode.unidecode(review) for review in reviews['preprocess_1_2']]\n",
    "irrelavantes_without_accentuation = [unidecode.unidecode(each) for each in irrelevants]\n",
    "\n",
    "processed_sentece = list()\n",
    "for each in tqdm(reviews['preprocess_2']):\n",
    "    filtered_sentence = list()\n",
    "    wordish = whiteSpaceTokenizer.tokenize(each)\n",
    "    for item in wordish:\n",
    "        if item not in irrelavantes_without_accentuation:\n",
    "            filtered_sentence.append(item)\n",
    "    processed_sentece.append(' '.join(filtered_sentence))\n",
    "\n",
    "reviews['preprocess_2'] = processed_sentece    "
   ]
  },
  {
   "cell_type": "code",
   "execution_count": 102,
   "metadata": {},
   "outputs": [
    {
     "name": "stdout",
     "output_type": "stream",
     "text": [
      "This is a negative review:\n",
      "\n",
      " vez sr costner arrumou filme tempo necessario alem terriveis sequencias resgate mar quais poucas simplesmente importei nenhum personagens maioria fantasmas armario personagem costers realizado logo inicio esquecido tarde importava personagem deveriamos importar arrogante superconfiante ashton kutcher problema sai garoto pensa melhor qualquer outra pessoa redor mostra sinais armario desordenado unico obstaculo parece estar vencendo costner finalmente bem alem meio caminho costner conta sobre fantasmas kutchers informados kutcher levado ser melhor pressentimentos pressagios anteriores nenhuma magica aqui tudo podia fazer desligar hora\n"
     ]
    }
   ],
   "source": [
    "print('This is a negative review:\\n\\n', reviews.preprocess_2[0])"
   ]
  },
  {
   "cell_type": "code",
   "execution_count": 107,
   "metadata": {},
   "outputs": [
    {
     "name": "stderr",
     "output_type": "stream",
     "text": [
      "100%|██████████| 49459/49459 [04:55<00:00, 167.21it/s]\n"
     ]
    }
   ],
   "source": [
    "# Third, stemming the words to a common radical\n",
    "\n",
    "stemmer = nltk.RSLPStemmer()\n",
    "\n",
    "processed_sentece = list()\n",
    "for each in tqdm(reviews['preprocess_2']):\n",
    "    filtered_sentence = list()\n",
    "    wordish = whiteSpaceTokenizer.tokenize(each)\n",
    "    for item in wordish:\n",
    "        filtered_sentence.append(stemmer.stem(item))\n",
    "    processed_sentece.append(' '.join(filtered_sentence))\n",
    "\n",
    "reviews['preprocess_3'] = processed_sentece   "
   ]
  },
  {
   "cell_type": "code",
   "execution_count": 108,
   "metadata": {},
   "outputs": [
    {
     "name": "stdout",
     "output_type": "stream",
     "text": [
      "This is a negative review:\n",
      "\n",
      " vez sr costn arrum film temp necessari alem terri sequenc resgat mar qual pouc simples import nenhum person maior fantasm armari person cost realiz log inici esquec tard import person deveri import arrog superconfi ashton kutch problem sai garot pens melhor qualqu outr pesso redor mostr sinal armari desorden unic obstacul parec est venc costn final bem alem mei caminh costn cont sobr fantasm kutch inform kutch lev ser melhor pressent pressagi anteri nenhum magic aqu tud pod faz deslig hor\n"
     ]
    }
   ],
   "source": [
    "print('This is a negative review:\\n\\n', reviews.preprocess_3[0])"
   ]
  },
  {
   "cell_type": "code",
   "execution_count": 109,
   "metadata": {},
   "outputs": [
    {
     "data": {
      "text/html": [
       "<div>\n",
       "<style scoped>\n",
       "    .dataframe tbody tr th:only-of-type {\n",
       "        vertical-align: middle;\n",
       "    }\n",
       "\n",
       "    .dataframe tbody tr th {\n",
       "        vertical-align: top;\n",
       "    }\n",
       "\n",
       "    .dataframe thead th {\n",
       "        text-align: right;\n",
       "    }\n",
       "</style>\n",
       "<table border=\"1\" class=\"dataframe\">\n",
       "  <thead>\n",
       "    <tr style=\"text-align: right;\">\n",
       "      <th></th>\n",
       "      <th>id</th>\n",
       "      <th>text_en</th>\n",
       "      <th>text_pt</th>\n",
       "      <th>sentiment</th>\n",
       "      <th>binary_sentiment_repres</th>\n",
       "      <th>preprocess_0</th>\n",
       "      <th>preprocess_1_1</th>\n",
       "      <th>preprocess_1_2</th>\n",
       "      <th>preprocess_2</th>\n",
       "      <th>preprocess_3</th>\n",
       "    </tr>\n",
       "  </thead>\n",
       "  <tbody>\n",
       "    <tr>\n",
       "      <th>0</th>\n",
       "      <td>1</td>\n",
       "      <td>Once again Mr. Costner has dragged out a movie...</td>\n",
       "      <td>Mais uma vez, o Sr. Costner arrumou um filme p...</td>\n",
       "      <td>neg</td>\n",
       "      <td>0</td>\n",
       "      <td>mais uma vez, o sr. costner arrumou um filme p...</td>\n",
       "      <td>vez, sr. costner arrumou filme tempo necessári...</td>\n",
       "      <td>vez sr costner arrumou filme tempo necessário ...</td>\n",
       "      <td>vez sr costner arrumou filme tempo necessario ...</td>\n",
       "      <td>vez sr costn arrum film temp necessari alem te...</td>\n",
       "    </tr>\n",
       "    <tr>\n",
       "      <th>1</th>\n",
       "      <td>2</td>\n",
       "      <td>This is an example of why the majority of acti...</td>\n",
       "      <td>Este é um exemplo do motivo pelo qual a maiori...</td>\n",
       "      <td>neg</td>\n",
       "      <td>0</td>\n",
       "      <td>este é um exemplo do motivo pelo qual a maiori...</td>\n",
       "      <td>exemplo motivo maioria filmes ação mesmos. gen...</td>\n",
       "      <td>exemplo motivo maioria filmes ação mesmos gené...</td>\n",
       "      <td>exemplo motivo maioria filmes acao mesmos gene...</td>\n",
       "      <td>exempl motiv maior film aca mesm gener chat na...</td>\n",
       "    </tr>\n",
       "    <tr>\n",
       "      <th>2</th>\n",
       "      <td>3</td>\n",
       "      <td>First of all I hate those moronic rappers, who...</td>\n",
       "      <td>Primeiro de tudo eu odeio esses raps imbecis, ...</td>\n",
       "      <td>neg</td>\n",
       "      <td>0</td>\n",
       "      <td>primeiro de tudo eu odeio esses raps imbecis, ...</td>\n",
       "      <td>primeiro tudo odeio raps imbecis, poderiam agi...</td>\n",
       "      <td>primeiro tudo odeio raps imbecis poderiam agir...</td>\n",
       "      <td>primeiro tudo odeio raps imbecis poderiam agir...</td>\n",
       "      <td>prim tud odei rap imbecil pod agir arm pressio...</td>\n",
       "    </tr>\n",
       "    <tr>\n",
       "      <th>3</th>\n",
       "      <td>4</td>\n",
       "      <td>Not even the Beatles could write songs everyon...</td>\n",
       "      <td>Nem mesmo os Beatles puderam escrever músicas ...</td>\n",
       "      <td>neg</td>\n",
       "      <td>0</td>\n",
       "      <td>nem mesmo os beatles puderam escrever músicas ...</td>\n",
       "      <td>beatles puderam escrever músicas todos gostass...</td>\n",
       "      <td>beatles puderam escrever músicas todos gostass...</td>\n",
       "      <td>beatles puderam escrever musicas todos gostass...</td>\n",
       "      <td>beatl pud escrev music tod gost emb walt hill ...</td>\n",
       "    </tr>\n",
       "    <tr>\n",
       "      <th>4</th>\n",
       "      <td>5</td>\n",
       "      <td>Brass pictures movies is not a fitting word fo...</td>\n",
       "      <td>Filmes de fotos de latão não é uma palavra apr...</td>\n",
       "      <td>neg</td>\n",
       "      <td>0</td>\n",
       "      <td>filmes de fotos de latão não é uma palavra apr...</td>\n",
       "      <td>filmes fotos latão palavra apropriada eles, ve...</td>\n",
       "      <td>filmes fotos latão palavra apropriada eles ver...</td>\n",
       "      <td>filmes fotos latao palavra apropriada verdade ...</td>\n",
       "      <td>film fot lata palavr apropri verdad tant ous q...</td>\n",
       "    </tr>\n",
       "  </tbody>\n",
       "</table>\n",
       "</div>"
      ],
      "text/plain": [
       "   id                                            text_en  \\\n",
       "0   1  Once again Mr. Costner has dragged out a movie...   \n",
       "1   2  This is an example of why the majority of acti...   \n",
       "2   3  First of all I hate those moronic rappers, who...   \n",
       "3   4  Not even the Beatles could write songs everyon...   \n",
       "4   5  Brass pictures movies is not a fitting word fo...   \n",
       "\n",
       "                                             text_pt sentiment  \\\n",
       "0  Mais uma vez, o Sr. Costner arrumou um filme p...       neg   \n",
       "1  Este é um exemplo do motivo pelo qual a maiori...       neg   \n",
       "2  Primeiro de tudo eu odeio esses raps imbecis, ...       neg   \n",
       "3  Nem mesmo os Beatles puderam escrever músicas ...       neg   \n",
       "4  Filmes de fotos de latão não é uma palavra apr...       neg   \n",
       "\n",
       "   binary_sentiment_repres                                       preprocess_0  \\\n",
       "0                        0  mais uma vez, o sr. costner arrumou um filme p...   \n",
       "1                        0  este é um exemplo do motivo pelo qual a maiori...   \n",
       "2                        0  primeiro de tudo eu odeio esses raps imbecis, ...   \n",
       "3                        0  nem mesmo os beatles puderam escrever músicas ...   \n",
       "4                        0  filmes de fotos de latão não é uma palavra apr...   \n",
       "\n",
       "                                      preprocess_1_1  \\\n",
       "0  vez, sr. costner arrumou filme tempo necessári...   \n",
       "1  exemplo motivo maioria filmes ação mesmos. gen...   \n",
       "2  primeiro tudo odeio raps imbecis, poderiam agi...   \n",
       "3  beatles puderam escrever músicas todos gostass...   \n",
       "4  filmes fotos latão palavra apropriada eles, ve...   \n",
       "\n",
       "                                      preprocess_1_2  \\\n",
       "0  vez sr costner arrumou filme tempo necessário ...   \n",
       "1  exemplo motivo maioria filmes ação mesmos gené...   \n",
       "2  primeiro tudo odeio raps imbecis poderiam agir...   \n",
       "3  beatles puderam escrever músicas todos gostass...   \n",
       "4  filmes fotos latão palavra apropriada eles ver...   \n",
       "\n",
       "                                        preprocess_2  \\\n",
       "0  vez sr costner arrumou filme tempo necessario ...   \n",
       "1  exemplo motivo maioria filmes acao mesmos gene...   \n",
       "2  primeiro tudo odeio raps imbecis poderiam agir...   \n",
       "3  beatles puderam escrever musicas todos gostass...   \n",
       "4  filmes fotos latao palavra apropriada verdade ...   \n",
       "\n",
       "                                        preprocess_3  \n",
       "0  vez sr costn arrum film temp necessari alem te...  \n",
       "1  exempl motiv maior film aca mesm gener chat na...  \n",
       "2  prim tud odei rap imbecil pod agir arm pressio...  \n",
       "3  beatl pud escrev music tod gost emb walt hill ...  \n",
       "4  film fot lata palavr apropri verdad tant ous q...  "
      ]
     },
     "execution_count": 109,
     "metadata": {},
     "output_type": "execute_result"
    }
   ],
   "source": [
    "reviews.head()"
   ]
  },
  {
   "cell_type": "code",
   "execution_count": 111,
   "metadata": {},
   "outputs": [
    {
     "data": {
      "image/png": "[encoded data removed]",
      "text/plain": [
       "<Figure size 864x576 with 1 Axes>"
      ]
     },
     "metadata": {
      "needs_background": "light"
     },
     "output_type": "display_data"
    }
   ],
   "source": [
    "df_occur = get_occurs_df('preprocess_3')\n",
    "plot_samples(df_occur, n=20)"
   ]
  },
  {
   "cell_type": "code",
   "execution_count": 150,
   "metadata": {},
   "outputs": [],
   "source": [
    "# Saving the current dataset with preprocessing\n",
    "\n",
    "reviews.to_csv('imdb-reviews-pt-br2.csv')"
   ]
  },
  {
   "cell_type": "markdown",
   "metadata": {},
   "source": [
    "## Training our model on the preprocessed dataset\n",
    "\n",
    "Bellow we are going to train our model, to be easier, we are going to use sklearn simple classifier."
   ]
  },
  {
   "cell_type": "code",
   "execution_count": 133,
   "metadata": {},
   "outputs": [],
   "source": [
    "def make_a_prediction(phrase, regressor, vectorizer):\n",
    "    #return 'Positive' if regressor.predict(vectorizer.transform([phrase]))[0] else 'Negative'\n",
    "    return regressor.predict(vectorizer.transform([phrase]))[0]"
   ]
  },
  {
   "cell_type": "code",
   "execution_count": 151,
   "metadata": {},
   "outputs": [
    {
     "name": "stdout",
     "output_type": "stream",
     "text": [
      "Bag of words shape (49459, 500)\n",
      "Train and Test X shapes: (37094, 500) (12365, 500)\n",
      "Train and Test Y shapes: (37094, 1) (12365, 1)\n",
      "acc: 0.8349373230893652\n"
     ]
    }
   ],
   "source": [
    "vectorizer_1 = CountVectorizer(max_features=500) # max_features=100\n",
    "\n",
    "# If you want to put everything on a sparse DataFrame, but is not a good idea!\n",
    "# bow = vectorizer.fit_transform(reviews.text_pt)\n",
    "# df_bow = pd.DataFrame.sparse.from_spmatrix(bow, columns=vectorizer.get_feature_names())\n",
    "\n",
    "bow = vectorizer_1.fit_transform(reviews.preprocess_3)\n",
    "print(\"Bag of words shape\", bow.shape)\n",
    "\n",
    "trX, teX, trY, teY = train_test_split(bow, reviews.binary_sentiment_repres.values.reshape(-1, 1), random_state=9)\n",
    "print(\"Train and Test X shapes:\", trX.shape, teX.shape)\n",
    "print(\"Train and Test Y shapes:\", trY.shape, teY.shape)\n",
    "\n",
    "regressor_1 = LogisticRegression(solver=\"lbfgs\")\n",
    "regressor_1.fit(trX, trY.ravel())\n",
    "print(\"acc:\", regressor_1.score(teX, teY.ravel()))"
   ]
  },
  {
   "cell_type": "code",
   "execution_count": 152,
   "metadata": {},
   "outputs": [
    {
     "name": "stdout",
     "output_type": "stream",
     "text": [
      "Digite o que achou do Filme \"De volta para o Futuro\": Bom\n",
      "1\n",
      "Digite o que achou do Filme \"De volta para o Futuro\": Ruim\n",
      "0\n"
     ]
    }
   ],
   "source": [
    "for _ in range(2):\n",
    "    phrase = input('Digite o que achou do Filme \"De volta para o Futuro\": ')\n",
    "    print(make_a_prediction(phrase, regressor_1, vectorizer_1))"
   ]
  },
  {
   "cell_type": "code",
   "execution_count": 143,
   "metadata": {},
   "outputs": [
    {
     "name": "stdout",
     "output_type": "stream",
     "text": [
      "Bag of words shape (49459, 500)\n",
      "Train and Test X shapes: (37094, 500) (12365, 500)\n",
      "Train and Test Y shapes: (37094, 1) (12365, 1)\n",
      "acc: 0.8351799433885968\n"
     ]
    }
   ],
   "source": [
    "vectorizer_2 = TfidfVectorizer(max_features=500)  # lowercase=False, max_features=100\n",
    "\n",
    "bow = vectorizer_2.fit_transform(reviews.preprocess_3)\n",
    "print(\"Bag of words shape\", bow.shape)\n",
    "\n",
    "trX, teX, trY, teY = train_test_split(bow, reviews.binary_sentiment_repres.values.reshape(-1, 1), random_state=9)\n",
    "print(\"Train and Test X shapes:\", trX.shape, teX.shape)\n",
    "print(\"Train and Test Y shapes:\", trY.shape, teY.shape)\n",
    "\n",
    "regressor_2 = LogisticRegression(solver=\"lbfgs\")\n",
    "regressor_2.fit(trX, trY.ravel())\n",
    "print(\"acc:\", regressor_2.score(teX, teY.ravel()))"
   ]
  },
  {
   "cell_type": "code",
   "execution_count": 145,
   "metadata": {},
   "outputs": [
    {
     "name": "stdout",
     "output_type": "stream",
     "text": [
      "Digite o que achou do Filme \"Os Vingadores\": Ruim\n",
      "0\n",
      "Digite o que achou do Filme \"Os Vingadores\": Horrível\n",
      "0\n"
     ]
    }
   ],
   "source": [
    "for _ in range(2):\n",
    "    phrase = input('Digite o que achou do Filme \"Os Vingadores\": ')\n",
    "    print(make_a_prediction(phrase, regressor_2, vectorizer_2))"
   ]
  },
  {
   "cell_type": "markdown",
   "metadata": {},
   "source": [
    "## Persisting data on disk to be used later on the API\n",
    "\n",
    "we are going to use JOBLIB to help on it!\n",
    "\n",
    "https://scikit-learn.org/stable/modules/model_persistence.html#persistence-example"
   ]
  },
  {
   "cell_type": "code",
   "execution_count": 146,
   "metadata": {},
   "outputs": [
    {
     "data": {
      "text/plain": [
       "['sklearn-logistc-regressor-model.joblib']"
      ]
     },
     "execution_count": 146,
     "metadata": {},
     "output_type": "execute_result"
    }
   ],
   "source": [
    "dump(regressor_2, 'sklearn-logistc-regressor-model.joblib') "
   ]
  },
  {
   "cell_type": "code",
   "execution_count": 147,
   "metadata": {},
   "outputs": [],
   "source": [
    "pickle.dump(vectorizer_2, open(\"vectorizer_1.pickle\", \"wb\"))"
   ]
  }
 ],
 "metadata": {
  "kernelspec": {
   "display_name": "Python 3",
   "language": "python",
   "name": "python3"
  },
  "language_info": {
   "codemirror_mode": {
    "name": "ipython",
    "version": 3
   },
   "file_extension": ".py",
   "mimetype": "text/x-python",
   "name": "python",
   "nbconvert_exporter": "python",
   "pygments_lexer": "ipython3",
   "version": "3.6.9"
  }
 },
 "nbformat": 4,
 "nbformat_minor": 2
}
